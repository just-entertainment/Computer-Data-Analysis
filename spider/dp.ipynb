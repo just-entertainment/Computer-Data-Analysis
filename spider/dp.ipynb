{
 "cells": [
  {
   "cell_type": "code",
   "execution_count": 15,
   "outputs": [
    {
     "name": "stdout",
     "output_type": "stream",
     "text": [
      "配置已保存到文件: C:\\Users\\II\\PycharmProjects\\djangoProject\\djangoProject\\biyesheji\\venv\\lib\\site-packages\\DrissionPage\\_configs\\configs.ini\n",
      "以后程序可自动从文件加载配置\n"
     ]
    },
    {
     "data": {
      "text/plain": "'C:\\\\Users\\\\II\\\\PycharmProjects\\\\djangoProject\\\\djangoProject\\\\biyesheji\\\\venv\\\\lib\\\\site-packages\\\\DrissionPage\\\\_configs\\\\configs.ini'"
     },
     "execution_count": 15,
     "metadata": {},
     "output_type": "execute_result"
    }
   ],
   "source": [
    "from DrissionPage import ChromiumOptions\n",
    "path = r'C:\\Program Files\\Google\\Chrome\\Application\\chrome.exe'\n",
    "ChromiumOptions().set_browser_path(path).save()"
   ],
   "metadata": {
    "collapsed": false,
    "ExecuteTime": {
     "end_time": "2025-02-13T05:54:12.415728600Z",
     "start_time": "2025-02-13T05:54:12.372370900Z"
    }
   }
  },
  {
   "cell_type": "code",
   "execution_count": 5,
   "outputs": [
    {
     "data": {
      "text/plain": "<ChromiumElement a class='channel-link' href='https://www.bilibili.com/anime/?spm_id_from=333.1007.0.0' style='letter-spacing:2px;' target='_blank'>"
     },
     "execution_count": 5,
     "metadata": {},
     "output_type": "execute_result"
    }
   ],
   "source": [
    "from DrissionPage import ChromiumPage\n",
    "from DrissionPage.common import Keys\n",
    "import csv\n",
    "import time\n",
    "\n",
    "dp = ChromiumPage()\n",
    "dp.get('https://www.bilibili.com/')\n",
    "dp.ele('@class=channel-link').click()\n"
   ],
   "metadata": {
    "collapsed": false,
    "ExecuteTime": {
     "end_time": "2025-02-15T10:31:22.932069100Z",
     "start_time": "2025-02-15T10:31:21.565381Z"
    }
   }
  },
  {
   "cell_type": "code",
   "execution_count": 2,
   "outputs": [],
   "source": [
    "from DrissionPage import ChromiumPage\n",
    "from DrissionPage.common import Keys\n",
    "import time\n",
    "\n",
    "dp = ChromiumPage()\n",
    "dp.get('https://www.jd.com/')\n",
    "dp.ele('#key').input('内存')\n",
    "dp.ele('#key').input(Keys.ENTER)\n",
    "time.sleep(3)  # 确保搜索完成\n",
    "\n",
    "for page in range(1, 11):\n",
    "    # 获取当前页所有商品\n",
    "    products = dp.eles('li.gl-item')\n",
    "    if not products:\n",
    "        break\n",
    "\n",
    "    for product in products:\n",
    "        # 获取商品链接并打开新标签页\n",
    "        product_link = product.ele('tag:a')\n",
    "        tab = dp.new_tab(product_link.link, activate=True)  # 激活新标签页\n",
    "        tab.wait.load_start()  # 等待新页面加载\n",
    "\n",
    "        try:\n",
    "            # 获取店铺名称\n",
    "            shopname = tab.ele('.p-shop').text\n",
    "            print(f\"店铺名: {shopname}\")\n",
    "\n",
    "            # 处理规格1\n",
    "            spec1_wrapper = tab.ele('#choose-attr-1')\n",
    "            spec1_options = spec1_wrapper.eles('dd a')\n",
    "            for spec1 in spec1_options:\n",
    "                spec1.click()\n",
    "                time.sleep(1)  # 等待规格1加载\n",
    "                tab.wait.ele_loaded('#choose-attr-2', timeout=3)  # 显式等待规格2区域加载\n",
    "\n",
    "                # 处理规格2\n",
    "                spec2_wrapper = tab.ele('#choose-attr-2')\n",
    "                spec2_options = spec2_wrapper.eles('dd a')\n",
    "                for spec2 in spec2_options:\n",
    "                    spec2.click()\n",
    "                    time.sleep(1)\n",
    "                    # 获取价格\n",
    "                    price = tab.ele('.price').text\n",
    "                    print(f\"规格组合: {spec1.text} + {spec2.text}, 价格: {price}\")\n",
    "\n",
    "        except Exception as e:\n",
    "            print(f\"处理商品时出错: {e}\")\n",
    "\n",
    "        finally:\n",
    "            tab.close()  # 关闭当前标签页\n",
    "            dp.wait(1)\n",
    "            dp.set.active_tab(dp.latest_tab)  # 切回主标签页\n",
    "\n",
    "    # 翻页操作\n",
    "    next_btn = dp.ele('.pn-next', timeout=3)\n",
    "    if next_btn:\n",
    "        next_btn.click()\n",
    "        time.sleep(3)  # 等待新页加载\n",
    "    else:\n",
    "        break"
   ],
   "metadata": {
    "collapsed": false,
    "ExecuteTime": {
     "end_time": "2025-02-15T14:12:10.367561100Z",
     "start_time": "2025-02-15T14:11:55.914069300Z"
    }
   }
  }
 ],
 "metadata": {
  "kernelspec": {
   "display_name": "Python 3",
   "language": "python",
   "name": "python3"
  },
  "language_info": {
   "codemirror_mode": {
    "name": "ipython",
    "version": 2
   },
   "file_extension": ".py",
   "mimetype": "text/x-python",
   "name": "python",
   "nbconvert_exporter": "python",
   "pygments_lexer": "ipython2",
   "version": "2.7.6"
  }
 },
 "nbformat": 4,
 "nbformat_minor": 0
}
